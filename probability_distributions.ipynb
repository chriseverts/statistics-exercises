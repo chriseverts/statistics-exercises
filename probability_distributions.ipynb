{
 "cells": [
  {
   "cell_type": "code",
   "execution_count": 2,
   "id": "42424598",
   "metadata": {},
   "outputs": [
    {
     "data": {
      "text/plain": [
       "Text(0, 0.5, 'P(x)')"
      ]
     },
     "execution_count": 2,
     "metadata": {},
     "output_type": "execute_result"
    },
    {
     "data": {
      "image/png": "[encoded data removed]",
      "text/plain": [
       "<Figure size 432x288 with 1 Axes>"
      ]
     },
     "metadata": {
      "needs_background": "light"
     },
     "output_type": "display_data"
    }
   ],
   "source": [
    "import matplotlib.pyplot as plt\n",
    "import numpy as np\n",
    "import pandas as pd\n",
    "from scipy import stats\n",
    "\n",
    "\n",
    "\n",
    "##1. A bank found that the average number of cars waiting during the noon hour at a drive-up window follows a Poisson distribution with a mean of 2 cars. \n",
    "##Make a chart of this distribution and answer these questions concerning the probability of cars waiting at the drive-up window.\n",
    "\n",
    "##What is the probability that no cars drive up in the noon hour?\n",
    "##What is the probability that 3 or more cars come through the drive through?\n",
    "##How likely is it that the drive through gets at least 1 car?\n",
    "\n",
    "\n",
    "λ = 2\n",
    "drive_up = stats.poisson(λ)\n",
    "x = np.arange(0,10)\n",
    "y= drive_up.pmf(x)\n",
    "plt.bar(x,y)\n",
    "plt.xlabel('Visitor Purchases')\n",
    "plt.ylabel('P(x)')"
   ]
  },
  {
   "cell_type": "code",
   "execution_count": 3,
   "id": "60a43b2a",
   "metadata": {},
   "outputs": [
    {
     "data": {
      "text/plain": [
       "0.1353352832366127"
      ]
     },
     "execution_count": 3,
     "metadata": {},
     "output_type": "execute_result"
    }
   ],
   "source": [
    "#1a What is the probability that no cars drive up in the noon hour?\n",
    "drive_up.pmf(0)"
   ]
  },
  {
   "cell_type": "code",
   "execution_count": 8,
   "id": "1cf3ad48",
   "metadata": {},
   "outputs": [
    {
     "data": {
      "text/plain": [
       "0.32332358381693654"
      ]
     },
     "execution_count": 8,
     "metadata": {},
     "output_type": "execute_result"
    }
   ],
   "source": [
    "#1b.) What is the probability that 3 or more cars come through the drive through?\n",
    "drive_up.sf(2)"
   ]
  },
  {
   "cell_type": "code",
   "execution_count": 9,
   "id": "9c665671",
   "metadata": {},
   "outputs": [
    {
     "data": {
      "text/plain": [
       "0.8646647167633873"
      ]
     },
     "execution_count": 9,
     "metadata": {},
     "output_type": "execute_result"
    }
   ],
   "source": [
    "#1c. How likely is it that the drive through gets at least 1 car?\n",
    "\n",
    "drive_up.sf(0)\n",
    "\n"
   ]
  },
  {
   "cell_type": "code",
   "execution_count": 14,
   "id": "69272104",
   "metadata": {},
   "outputs": [
    {
     "data": {
      "text/plain": [
       "3.4934560880854417"
      ]
     },
     "execution_count": 14,
     "metadata": {},
     "output_type": "execute_result"
    }
   ],
   "source": [
    "##Grades of State University graduates are normally distributed with a mean of 3.0 and a standard deviation of .3.\n",
    "##Calculate the following:\n",
    "\n",
    "\n",
    "#2a. What grade point average is required to be in the top 5% of the graduating class?\n",
    "\n",
    "μ = 3.0\n",
    "\n",
    "σ = .3\n",
    "\n",
    "\n",
    "gpa = stats.norm(μ,σ)\n",
    "\n",
    "top_5_percent = gpa.isf(.05)\n",
    "\n",
    "top_5_percent\n",
    "\n"
   ]
  },
  {
   "cell_type": "code",
   "execution_count": 16,
   "id": "c720f385",
   "metadata": {},
   "outputs": [
    {
     "data": {
      "text/plain": [
       "2.689069983151863"
      ]
     },
     "execution_count": 16,
     "metadata": {},
     "output_type": "execute_result"
    }
   ],
   "source": [
    "#2b. What GPA constitutes the bottom 15% of the class?\n",
    "\n",
    "bottom_15_percent = gpa.ppf(.15)\n",
    "bottom_15_percent"
   ]
  },
  {
   "cell_type": "code",
   "execution_count": null,
   "id": "8eb984e5",
   "metadata": {},
   "outputs": [],
   "source": [
    "#2C. An eccentric alumnus left scholarship money for students in the third decile from the bottom of their class. \n",
    "##Determine the range of the third decile. \n",
    "##Would a student with a 2.8 grade point average qualify for this scholarship?\n",
    "\n"
   ]
  }
 ],
 "metadata": {
  "kernelspec": {
   "display_name": "Python 3",
   "language": "python",
   "name": "python3"
  },
  "language_info": {
   "codemirror_mode": {
    "name": "ipython",
    "version": 3
   },
   "file_extension": ".py",
   "mimetype": "text/x-python",
   "name": "python",
   "nbconvert_exporter": "python",
   "pygments_lexer": "ipython3",
   "version": "3.8.8"
  }
 },
 "nbformat": 4,
 "nbformat_minor": 5
}
