{
 "cells": [
  {
   "cell_type": "code",
   "execution_count": 1,
   "id": "f26e14af",
   "metadata": {},
   "outputs": [],
   "source": [
    "#For each of the following questions, formulate a null and alternative hypothesis (be as specific as you can be),\n",
    "#then give an example of what a true positive, true negative, type I and type II errors would look like.\n",
    "#Note that some of the questions are intentionally phrased in a vague way. \n",
    "#It is your job to reword these as more precise questions that could be tested.\n",
    "\n",
    "#Has the network latency gone up since we switched internet service providers?\n",
    "#Is the website redesign any good?\n",
    "#Is our television ad driving more sales?\n",
    "\n",
    "\n",
    "\n"
   ]
  },
  {
   "cell_type": "markdown",
   "id": "43e78d1d",
   "metadata": {},
   "source": [
    "\n",
    "\n",
    "Has the network latency gone up during the day since we switched internet service providers?\n",
    "\n",
    "\n",
    "\n",
    "1a. Hnull: Has the network latency stayed the same or decreased during the day since we switched providers\n",
    "\n",
    "Halternative: Network latency of current provider during the day > then the previous provider\n",
    "\n",
    "True Positive: the network latency gone up during the day since we switched internet service providers.\n",
    "True Negative: The network latency has stayed the same if not decreased during the day since switching providers\n",
    "Type 1 error: The network latency did not stay the same and or decreased during the day when in actuality the latency did decrease during the day\n",
    "Type 2 error: The network latency has stayed the same if not decreased during the day is false but continue to believe that the  latency stayed the same and decreased during the day.\n",
    "\n"
   ]
  },
  {
   "cell_type": "markdown",
   "id": "eb7500cc",
   "metadata": {},
   "source": [
    "\n",
    "Is the website redesign lacking updated content\n",
    "\n",
    "\n",
    "2a Hnull: The website redesign does not have updated content\n",
    "\n",
    "Halternative: The website redesign is fully updated.\n",
    "\n",
    "True Positive: The website redesign updates every second\n",
    "True Negative: The website redesign does not contain any new data\n",
    "\n",
    "Type 1 error: The website redesign is fully updated however the website launch redesign did not have updated content\n",
    "Type 2 error: The website does not have updated content, however the the content is up to date\n",
    "\n"
   ]
  },
  {
   "cell_type": "markdown",
   "id": "ab2de2e3",
   "metadata": {},
   "source": [
    "#Is our television ad driving more sales with the age group 50+\n",
    "\n",
    "Hnull: tele ad driving less sales with age group <=50\n",
    "\n",
    "Halternative: tele ad driving more sales with the 50+ group\n",
    "\n",
    "True Positive: tele ad driving more sales with the 50+ group\n",
    "\n",
    "True Negative: tele ad driving less sales with age group <=50\n",
    "\n",
    "\n",
    "Type 1 error: tele ad driving less sales with age group <=50 when the data says it actually drove more sales\n",
    "Type 2 error: tele add driving less sales with the age group <=50 and continued to target age groups <= 50\n",
    "\n",
    "\n",
    "\n",
    "\n",
    "\n",
    "\n",
    "\n"
   ]
  }
 ],
 "metadata": {
  "kernelspec": {
   "display_name": "Python 3",
   "language": "python",
   "name": "python3"
  },
  "language_info": {
   "codemirror_mode": {
    "name": "ipython",
    "version": 3
   },
   "file_extension": ".py",
   "mimetype": "text/x-python",
   "name": "python",
   "nbconvert_exporter": "python",
   "pygments_lexer": "ipython3",
   "version": "3.8.8"
  }
 },
 "nbformat": 4,
 "nbformat_minor": 5
}
